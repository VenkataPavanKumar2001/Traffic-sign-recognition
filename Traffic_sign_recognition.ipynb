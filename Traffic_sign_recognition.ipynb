{
 "cells": [
  {
   "cell_type": "code",
   "execution_count": 1,
   "id": "ba3782ee",
   "metadata": {},
   "outputs": [],
   "source": [
    "import numpy as np \n",
    "import pandas as pd \n",
    "import matplotlib.pyplot as plt\n",
    "import cv2\n",
    "import tensorflow as tf\n",
    "from PIL import Image\n",
    "import os\n",
    "os.chdir('D:/Traffic_sign_Recognition')\n",
    "from sklearn.model_selection import train_test_split\n",
    "from keras.utils import to_categorical\n",
    "from keras.models import Sequential, load_model\n",
    "from keras.layers import Conv2D, MaxPool2D, Dense, Flatten, Dropout"
   ]
  },
  {
   "cell_type": "code",
   "execution_count": 23,
   "id": "aebd5c54",
   "metadata": {},
   "outputs": [],
   "source": [
    "data = []\n",
    "labels = []\n",
    "# We have 43 Classes\n",
    "classes = 43\n",
    "cur_path = os.getcwd()"
   ]
  },
  {
   "cell_type": "code",
   "execution_count": 24,
   "id": "7ab4fae2",
   "metadata": {
    "scrolled": false
   },
   "outputs": [
    {
     "data": {
      "text/plain": [
       "'D:\\\\Traffic_sign_Recognition'"
      ]
     },
     "execution_count": 24,
     "metadata": {},
     "output_type": "execute_result"
    }
   ],
   "source": [
    "cur_path"
   ]
  },
  {
   "cell_type": "code",
   "execution_count": 25,
   "id": "64284256",
   "metadata": {},
   "outputs": [],
   "source": [
    "for i in range(classes):\n",
    "    path = os.path.join(cur_path,'train',str(i))\n",
    "    images = os.listdir(path)\n",
    "    for a in images:\n",
    "        try:\n",
    "            image = Image.open(path + '\\\\'+ a)\n",
    "            image = image.resize((30,30))\n",
    "            image = np.array(image)\n",
    "            data.append(image)\n",
    "            labels.append(i)\n",
    "        except Exception as e:\n",
    "            print(e)"
   ]
  },
  {
   "cell_type": "code",
   "execution_count": 26,
   "id": "22b4569c",
   "metadata": {},
   "outputs": [],
   "source": [
    "data = np.array(data)\n",
    "labels = np.array(labels)"
   ]
  },
  {
   "cell_type": "code",
   "execution_count": 27,
   "id": "f0e0ce61",
   "metadata": {},
   "outputs": [],
   "source": [
    "#os.mkdir('training')\n",
    "\n",
    "np.save('./training/data1',data)\n",
    "np.save('./training/target1',labels)"
   ]
  },
  {
   "cell_type": "code",
   "execution_count": 28,
   "id": "b3453b3e",
   "metadata": {},
   "outputs": [],
   "source": [
    "data=np.load('./training/data1.npy')\n",
    "labels=np.load('./training/target1.npy')"
   ]
  },
  {
   "cell_type": "code",
   "execution_count": 29,
   "id": "25a5124d",
   "metadata": {},
   "outputs": [
    {
     "name": "stdout",
     "output_type": "stream",
     "text": [
      "(39209, 30, 30, 3) (39209,)\n"
     ]
    }
   ],
   "source": [
    "print(data.shape, labels.shape)"
   ]
  },
  {
   "cell_type": "code",
   "execution_count": 30,
   "id": "2d10710a",
   "metadata": {},
   "outputs": [],
   "source": [
    "X_train, X_test, y_train, y_test = train_test_split(data, labels, test_size=0.2, random_state=0)"
   ]
  },
  {
   "cell_type": "code",
   "execution_count": 31,
   "id": "c2930ca1",
   "metadata": {},
   "outputs": [
    {
     "name": "stdout",
     "output_type": "stream",
     "text": [
      "(31367, 30, 30, 3) (7842, 30, 30, 3) (31367,) (7842,)\n"
     ]
    }
   ],
   "source": [
    "print(X_train.shape, X_test.shape, y_train.shape, y_test.shape)"
   ]
  },
  {
   "cell_type": "code",
   "execution_count": 32,
   "id": "8d15f642",
   "metadata": {},
   "outputs": [],
   "source": [
    "y_train = to_categorical(y_train, 43)\n",
    "y_test = to_categorical(y_test, 43)"
   ]
  },
  {
   "cell_type": "code",
   "execution_count": 33,
   "id": "f72a2a12",
   "metadata": {},
   "outputs": [],
   "source": [
    "model = Sequential()\n",
    "model.add(Conv2D(filters=32, kernel_size=(5,5), activation='relu', input_shape=X_train.shape[1:]))\n",
    "model.add(Conv2D(filters=32, kernel_size=(5,5), activation='relu'))\n",
    "model.add(MaxPool2D(pool_size=(2, 2)))\n",
    "model.add(Dropout(rate=0.25))\n",
    "model.add(Conv2D(filters=64, kernel_size=(3, 3), activation='relu'))\n",
    "model.add(Conv2D(filters=64, kernel_size=(3, 3), activation='relu'))\n",
    "model.add(MaxPool2D(pool_size=(2, 2)))\n",
    "model.add(Dropout(rate=0.25))\n",
    "model.add(Flatten())\n",
    "model.add(Dense(256, activation='relu'))\n",
    "model.add(Dropout(rate=0.5))\n",
    "# We have 43 classes that's why we have defined 43 in the dense\n",
    "model.add(Dense(43, activation='softmax'))"
   ]
  },
  {
   "cell_type": "code",
   "execution_count": 34,
   "id": "52179504",
   "metadata": {},
   "outputs": [
    {
     "name": "stdout",
     "output_type": "stream",
     "text": [
      "Model: \"sequential\"\n",
      "_________________________________________________________________\n",
      " Layer (type)                Output Shape              Param #   \n",
      "=================================================================\n",
      " conv2d (Conv2D)             (None, 26, 26, 32)        2432      \n",
      "                                                                 \n",
      " conv2d_1 (Conv2D)           (None, 22, 22, 32)        25632     \n",
      "                                                                 \n",
      " max_pooling2d (MaxPooling2D  (None, 11, 11, 32)       0         \n",
      " )                                                               \n",
      "                                                                 \n",
      " dropout (Dropout)           (None, 11, 11, 32)        0         \n",
      "                                                                 \n",
      " conv2d_2 (Conv2D)           (None, 9, 9, 64)          18496     \n",
      "                                                                 \n",
      " conv2d_3 (Conv2D)           (None, 7, 7, 64)          36928     \n",
      "                                                                 \n",
      " max_pooling2d_1 (MaxPooling  (None, 3, 3, 64)         0         \n",
      " 2D)                                                             \n",
      "                                                                 \n",
      " dropout_1 (Dropout)         (None, 3, 3, 64)          0         \n",
      "                                                                 \n",
      " flatten (Flatten)           (None, 576)               0         \n",
      "                                                                 \n",
      " dense (Dense)               (None, 256)               147712    \n",
      "                                                                 \n",
      " dropout_2 (Dropout)         (None, 256)               0         \n",
      "                                                                 \n",
      " dense_1 (Dense)             (None, 43)                11051     \n",
      "                                                                 \n",
      "=================================================================\n",
      "Total params: 242,251\n",
      "Trainable params: 242,251\n",
      "Non-trainable params: 0\n",
      "_________________________________________________________________\n"
     ]
    }
   ],
   "source": [
    "model.summary()"
   ]
  },
  {
   "cell_type": "code",
   "execution_count": 39,
   "id": "4de5fdd9",
   "metadata": {},
   "outputs": [],
   "source": [
    "#Compilation of the model\n",
    "model.compile(loss='categorical_crossentropy', optimizer='adam', metrics=['accuracy'])"
   ]
  },
  {
   "cell_type": "code",
   "execution_count": 40,
   "id": "90b3cac1",
   "metadata": {},
   "outputs": [
    {
     "name": "stdout",
     "output_type": "stream",
     "text": [
      "Epoch 1/30\n",
      "981/981 [==============================] - 100s 101ms/step - loss: 1.9569 - accuracy: 0.5208 - val_loss: 0.5027 - val_accuracy: 0.8710\n",
      "Epoch 2/30\n",
      "981/981 [==============================] - 98s 100ms/step - loss: 0.7650 - accuracy: 0.7786 - val_loss: 0.2607 - val_accuracy: 0.9378\n",
      "Epoch 3/30\n",
      "981/981 [==============================] - 99s 101ms/step - loss: 0.5556 - accuracy: 0.8353 - val_loss: 0.1787 - val_accuracy: 0.9556\n",
      "Epoch 4/30\n",
      "981/981 [==============================] - 114s 116ms/step - loss: 0.4112 - accuracy: 0.8801 - val_loss: 0.2984 - val_accuracy: 0.9216\n",
      "Epoch 5/30\n",
      "981/981 [==============================] - 101s 103ms/step - loss: 0.3319 - accuracy: 0.9049 - val_loss: 0.1271 - val_accuracy: 0.9698\n",
      "Epoch 6/30\n",
      "981/981 [==============================] - 116s 118ms/step - loss: 0.2883 - accuracy: 0.9184 - val_loss: 0.1411 - val_accuracy: 0.9603\n",
      "Epoch 7/30\n",
      "981/981 [==============================] - 121s 124ms/step - loss: 0.2492 - accuracy: 0.9294 - val_loss: 0.0863 - val_accuracy: 0.9779\n",
      "Epoch 8/30\n",
      "981/981 [==============================] - 108s 110ms/step - loss: 0.2632 - accuracy: 0.9289 - val_loss: 0.0886 - val_accuracy: 0.9764\n",
      "Epoch 9/30\n",
      "981/981 [==============================] - 114s 116ms/step - loss: 0.2327 - accuracy: 0.9342 - val_loss: 0.0884 - val_accuracy: 0.9779\n",
      "Epoch 10/30\n",
      "981/981 [==============================] - 107s 109ms/step - loss: 0.2173 - accuracy: 0.9407 - val_loss: 0.0642 - val_accuracy: 0.9832\n",
      "Epoch 11/30\n",
      "981/981 [==============================] - 110s 113ms/step - loss: 0.2045 - accuracy: 0.9447 - val_loss: 0.0727 - val_accuracy: 0.9825\n",
      "Epoch 12/30\n",
      "981/981 [==============================] - 116s 118ms/step - loss: 0.2435 - accuracy: 0.9359 - val_loss: 0.0887 - val_accuracy: 0.9779\n",
      "Epoch 13/30\n",
      "981/981 [==============================] - 115s 117ms/step - loss: 0.1842 - accuracy: 0.9514 - val_loss: 0.0661 - val_accuracy: 0.9830\n",
      "Epoch 14/30\n",
      "981/981 [==============================] - 109s 111ms/step - loss: 0.2325 - accuracy: 0.9413 - val_loss: 0.0516 - val_accuracy: 0.9889\n",
      "Epoch 15/30\n",
      "981/981 [==============================] - 110s 112ms/step - loss: 0.2038 - accuracy: 0.9479 - val_loss: 0.0658 - val_accuracy: 0.9858\n",
      "Epoch 16/30\n",
      "981/981 [==============================] - 105s 107ms/step - loss: 0.2021 - accuracy: 0.9478 - val_loss: 0.0543 - val_accuracy: 0.9869\n",
      "Epoch 17/30\n",
      "981/981 [==============================] - 99s 101ms/step - loss: 0.2426 - accuracy: 0.9394 - val_loss: 0.1162 - val_accuracy: 0.9711\n",
      "Epoch 18/30\n",
      "981/981 [==============================] - 84s 86ms/step - loss: 0.2235 - accuracy: 0.9430 - val_loss: 0.0891 - val_accuracy: 0.9778\n",
      "Epoch 19/30\n",
      "981/981 [==============================] - 91s 93ms/step - loss: 0.2055 - accuracy: 0.9465 - val_loss: 0.0673 - val_accuracy: 0.9839\n",
      "Epoch 20/30\n",
      "981/981 [==============================] - 107s 109ms/step - loss: 0.2156 - accuracy: 0.9469 - val_loss: 0.1371 - val_accuracy: 0.9639\n",
      "Epoch 21/30\n",
      "981/981 [==============================] - 106s 108ms/step - loss: 0.2203 - accuracy: 0.9468 - val_loss: 0.0825 - val_accuracy: 0.9821\n",
      "Epoch 22/30\n",
      "981/981 [==============================] - 105s 107ms/step - loss: 0.1939 - accuracy: 0.9512 - val_loss: 0.0807 - val_accuracy: 0.9820\n",
      "Epoch 23/30\n",
      "981/981 [==============================] - 99s 100ms/step - loss: 0.2172 - accuracy: 0.9478 - val_loss: 0.0638 - val_accuracy: 0.9844\n",
      "Epoch 24/30\n",
      "981/981 [==============================] - 98s 100ms/step - loss: 0.2020 - accuracy: 0.9511 - val_loss: 0.0726 - val_accuracy: 0.9861\n",
      "Epoch 25/30\n",
      "981/981 [==============================] - 101s 103ms/step - loss: 0.2226 - accuracy: 0.9484 - val_loss: 0.0672 - val_accuracy: 0.9853\n",
      "Epoch 26/30\n",
      "981/981 [==============================] - 101s 103ms/step - loss: 0.2236 - accuracy: 0.9472 - val_loss: 0.0854 - val_accuracy: 0.9799\n",
      "Epoch 27/30\n",
      "981/981 [==============================] - 98s 100ms/step - loss: 0.2397 - accuracy: 0.9447 - val_loss: 0.0466 - val_accuracy: 0.9881\n",
      "Epoch 28/30\n",
      "981/981 [==============================] - 95s 97ms/step - loss: 0.2443 - accuracy: 0.9420 - val_loss: 0.0520 - val_accuracy: 0.9893\n",
      "Epoch 29/30\n",
      "981/981 [==============================] - 98s 100ms/step - loss: 0.2199 - accuracy: 0.9473 - val_loss: 0.0845 - val_accuracy: 0.9787\n",
      "Epoch 30/30\n",
      "981/981 [==============================] - 98s 100ms/step - loss: 0.2378 - accuracy: 0.9444 - val_loss: 0.1456 - val_accuracy: 0.9621\n"
     ]
    }
   ],
   "source": [
    "epochs = 30\n",
    "history = model.fit(X_train, y_train, batch_size=32, epochs=epochs, validation_data=(X_test, y_test))"
   ]
  },
  {
   "cell_type": "code",
   "execution_count": 41,
   "id": "ace5e52f",
   "metadata": {},
   "outputs": [
    {
     "data": {
      "image/png": "[encoded data removed]",
      "text/plain": [
       "<Figure size 432x288 with 1 Axes>"
      ]
     },
     "metadata": {
      "needs_background": "light"
     },
     "output_type": "display_data"
    }
   ],
   "source": [
    "# accuracy \n",
    "plt.figure(0)\n",
    "plt.plot(history.history['accuracy'], label='training accuracy')\n",
    "plt.plot(history.history['val_accuracy'], label='val accuracy')\n",
    "plt.title('Accuracy')\n",
    "plt.xlabel('epochs')\n",
    "plt.ylabel('accuracy')\n",
    "plt.legend()\n",
    "plt.show()"
   ]
  },
  {
   "cell_type": "code",
   "execution_count": 42,
   "id": "87005581",
   "metadata": {},
   "outputs": [
    {
     "data": {
      "image/png": "[encoded data removed]",
      "text/plain": [
       "<Figure size 432x288 with 1 Axes>"
      ]
     },
     "metadata": {
      "needs_background": "light"
     },
     "output_type": "display_data"
    }
   ],
   "source": [
    "# Loss\n",
    "plt.plot(history.history['loss'], label='training loss')\n",
    "plt.plot(history.history['val_loss'], label='val loss')\n",
    "plt.title('Loss')\n",
    "plt.xlabel('epochs')\n",
    "plt.ylabel('loss')\n",
    "plt.legend()\n",
    "plt.show()"
   ]
  },
  {
   "cell_type": "code",
   "execution_count": 43,
   "id": "f3272e5a",
   "metadata": {},
   "outputs": [],
   "source": [
    "def testing(testcsv):\n",
    "    y_test = pd.read_csv(testcsv)\n",
    "    label = y_test[\"ClassId\"].values\n",
    "    imgs = y_test[\"Path\"].values\n",
    "    data=[]\n",
    "    for img in imgs:\n",
    "        image = Image.open(img)\n",
    "        image = image.resize((30,30))\n",
    "        data.append(np.array(image))\n",
    "    X_test=np.array(data)\n",
    "    return X_test,label"
   ]
  },
  {
   "cell_type": "code",
   "execution_count": 44,
   "id": "c14d81f8",
   "metadata": {},
   "outputs": [],
   "source": [
    "X_test, label = testing('Test.csv')"
   ]
  },
  {
   "cell_type": "code",
   "execution_count": 46,
   "id": "065fd9e4",
   "metadata": {},
   "outputs": [
    {
     "name": "stdout",
     "output_type": "stream",
     "text": [
      "395/395 [==============================] - 22s 52ms/step\n"
     ]
    },
    {
     "data": {
      "text/plain": [
       "array([16,  1, 38, ..., 15,  7, 10], dtype=int64)"
      ]
     },
     "execution_count": 46,
     "metadata": {},
     "output_type": "execute_result"
    }
   ],
   "source": [
    "predict_x = model.predict(X_test)\n",
    "Y_pred = np.argmax(predict_x, axis=1)\n",
    "Y_pred"
   ]
  },
  {
   "cell_type": "code",
   "execution_count": 47,
   "id": "43747200",
   "metadata": {},
   "outputs": [
    {
     "name": "stdout",
     "output_type": "stream",
     "text": [
      "0.9144893111638955\n"
     ]
    }
   ],
   "source": [
    "from sklearn.metrics import accuracy_score\n",
    "print(accuracy_score(label, Y_pred))"
   ]
  },
  {
   "cell_type": "code",
   "execution_count": 2,
   "id": "5cc10c61",
   "metadata": {},
   "outputs": [
    {
     "ename": "NameError",
     "evalue": "name 'model' is not defined",
     "output_type": "error",
     "traceback": [
      "\u001b[1;31m---------------------------------------------------------------------------\u001b[0m",
      "\u001b[1;31mNameError\u001b[0m                                 Traceback (most recent call last)",
      "Input \u001b[1;32mIn [2]\u001b[0m, in \u001b[0;36m<cell line: 1>\u001b[1;34m()\u001b[0m\n\u001b[1;32m----> 1\u001b[0m \u001b[43mmodel\u001b[49m\u001b[38;5;241m.\u001b[39msave(\u001b[38;5;124m\"\u001b[39m\u001b[38;5;124m./training/Traffic_sign.h5\u001b[39m\u001b[38;5;124m\"\u001b[39m)\n",
      "\u001b[1;31mNameError\u001b[0m: name 'model' is not defined"
     ]
    }
   ],
   "source": [
    "model.save(\"./training/Traffic_sign.h5\")"
   ]
  },
  {
   "cell_type": "code",
   "execution_count": 3,
   "id": "edc2ddf8",
   "metadata": {},
   "outputs": [],
   "source": [
    "import os\n",
    "os.chdir(r'D:\\Traffic_Sign_Recognition')\n",
    "from keras.models import load_model\n",
    "model = load_model('./training/Traffic_sign.h5')"
   ]
  },
  {
   "cell_type": "code",
   "execution_count": 4,
   "id": "2ad8a876",
   "metadata": {},
   "outputs": [],
   "source": [
    "# Classes of trafic signs\n",
    "classes = { 0:'Speed limit (20km/h)',\n",
    "            1:'Speed limit (30km/h)', \n",
    "            2:'Speed limit (50km/h)', \n",
    "            3:'Speed limit (60km/h)', \n",
    "            4:'Speed limit (70km/h)', \n",
    "            5:'Speed limit (80km/h)', \n",
    "            6:'End of speed limit (80km/h)', \n",
    "            7:'Speed limit (100km/h)', \n",
    "            8:'Speed limit (120km/h)', \n",
    "            9:'No passing', \n",
    "            10:'No passing veh over 3.5 tons', \n",
    "            11:'Right-of-way at intersection', \n",
    "            12:'Priority road', \n",
    "            13:'Yield', \n",
    "            14:'Stop', \n",
    "            15:'No vehicles', \n",
    "            16:'Veh > 3.5 tons prohibited', \n",
    "            17:'No entry', \n",
    "            18:'General caution', \n",
    "            19:'Dangerous curve left', \n",
    "            20:'Dangerous curve right', \n",
    "            21:'Double curve', \n",
    "            22:'Bumpy road', \n",
    "            23:'Slippery road', \n",
    "            24:'Road narrows on the right', \n",
    "            25:'Road work', \n",
    "            26:'Traffic signals', \n",
    "            27:'Pedestrians', \n",
    "            28:'Children crossing', \n",
    "            29:'Bicycles crossing', \n",
    "            30:'Beware of ice/snow',\n",
    "            31:'Wild animals crossing', \n",
    "            32:'End speed + passing limits', \n",
    "            33:'Turn right ahead', \n",
    "            34:'Turn left ahead', \n",
    "            35:'Ahead only', \n",
    "            36:'Go straight or right', \n",
    "            37:'Go straight or left', \n",
    "            38:'Keep right', \n",
    "            39:'Keep left', \n",
    "            40:'Roundabout mandatory', \n",
    "            41:'End of no passing', \n",
    "            42:'End no passing veh > 3.5 tons' }"
   ]
  },
  {
   "cell_type": "code",
   "execution_count": 5,
   "id": "50726949",
   "metadata": {},
   "outputs": [],
   "source": [
    "from PIL import Image\n",
    "import numpy as np\n",
    "import matplotlib.pyplot as plt\n",
    "def test_on_img(img):\n",
    "    data=[]\n",
    "    image = Image.open(img)\n",
    "    image = image.resize((30,30))\n",
    "    data.append(np.array(image))\n",
    "    X_test=np.array(data)\n",
    "    predict_x = model.predict(X_test)\n",
    "    Y_pred = np.argmax(predict_x, axis=1)\n",
    "    return image,Y_pred"
   ]
  },
  {
   "cell_type": "code",
   "execution_count": 7,
   "id": "1adc1277",
   "metadata": {},
   "outputs": [
    {
     "name": "stdout",
     "output_type": "stream",
     "text": [
      "1/1 [==============================] - 1s 504ms/step\n",
      "Predicted traffic sign is:  Ahead only\n"
     ]
    },
    {
     "data": {
      "image/png": "[encoded data removed]",
      "text/plain": [
       "<Figure size 432x288 with 1 Axes>"
      ]
     },
     "metadata": {
      "needs_background": "light"
     },
     "output_type": "display_data"
    }
   ],
   "source": [
    "plot,prediction = test_on_img(r'D:\\Traffic_sign_Recognition\\Test\\01100.png')\n",
    "s = [str(i) for i in prediction] \n",
    "a = int(\"\".join(s)) \n",
    "print(\"Predicted traffic sign is: \", classes[a])\n",
    "plt.imshow(plot)\n",
    "plt.show()"
   ]
  },
  {
   "cell_type": "code",
   "execution_count": null,
   "id": "e01cf61b",
   "metadata": {},
   "outputs": [],
   "source": []
  }
 ],
 "metadata": {
  "kernelspec": {
   "display_name": "Python 3 (ipykernel)",
   "language": "python",
   "name": "python3"
  },
  "language_info": {
   "codemirror_mode": {
    "name": "ipython",
    "version": 3
   },
   "file_extension": ".py",
   "mimetype": "text/x-python",
   "name": "python",
   "nbconvert_exporter": "python",
   "pygments_lexer": "ipython3",
   "version": "3.9.12"
  }
 },
 "nbformat": 4,
 "nbformat_minor": 5
}
